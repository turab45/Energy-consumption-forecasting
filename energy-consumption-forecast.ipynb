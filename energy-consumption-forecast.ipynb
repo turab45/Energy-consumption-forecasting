{
 "cells": [
  {
   "cell_type": "markdown",
   "id": "3047f938",
   "metadata": {
    "id": "qHKWVStEq9D8",
    "papermill": {
     "duration": 0.034196,
     "end_time": "2022-07-12T00:37:42.665366",
     "exception": false,
     "start_time": "2022-07-12T00:37:42.631170",
     "status": "completed"
    },
    "tags": []
   },
   "source": [
    "# Introduction to Machine Learning for the Built Environment: Energy Consumption Forecasting\n",
    "\n",
    "This notebook is adapted from Dr. Clayton Miller. It uses the Building Data Genome Project data set to analyze electrical meter data from non-residential buildings."
   ]
  },
  {
   "cell_type": "markdown",
   "id": "7b15106c",
   "metadata": {
    "id": "LXteyZoDuApU",
    "papermill": {
     "duration": 0.031524,
     "end_time": "2022-07-12T00:37:42.733861",
     "exception": false,
     "start_time": "2022-07-12T00:37:42.702337",
     "status": "completed"
    },
    "tags": []
   },
   "source": [
    "## Import relevant python packages\n",
    "\n",
    "Let's use the electrical meter data to create clusters of typical load profiles for analysis. First we can load our conventional packages"
   ]
  },
  {
   "cell_type": "code",
   "execution_count": 1,
   "id": "71ab53ed",
   "metadata": {
    "execution": {
     "iopub.execute_input": "2022-07-12T00:37:42.810583Z",
     "iopub.status.busy": "2022-07-12T00:37:42.809899Z",
     "iopub.status.idle": "2022-07-12T00:37:42.815865Z",
     "shell.execute_reply": "2022-07-12T00:37:42.815217Z",
     "shell.execute_reply.started": "2022-07-12T00:36:34.270678Z"
    },
    "id": "l2OZzd4c6yHk",
    "papermill": {
     "duration": 0.049335,
     "end_time": "2022-07-12T00:37:42.816053",
     "exception": false,
     "start_time": "2022-07-12T00:37:42.766718",
     "status": "completed"
    },
    "tags": []
   },
   "outputs": [],
   "source": [
    "import pandas as pd\n",
    "import matplotlib.pyplot as plt\n",
    "import matplotlib"
   ]
  },
  {
   "cell_type": "markdown",
   "id": "1e9ad695",
   "metadata": {
    "id": "d6uiTF8u8TDM",
    "papermill": {
     "duration": 0.032372,
     "end_time": "2022-07-12T00:37:42.881178",
     "exception": false,
     "start_time": "2022-07-12T00:37:42.848806",
     "status": "completed"
    },
    "tags": []
   },
   "source": [
    "Next let's load all the packages we will need for  analysis"
   ]
  },
  {
   "cell_type": "code",
   "execution_count": 2,
   "id": "6e4e9865",
   "metadata": {
    "execution": {
     "iopub.execute_input": "2022-07-12T00:37:42.955997Z",
     "iopub.status.busy": "2022-07-12T00:37:42.955014Z",
     "iopub.status.idle": "2022-07-12T00:37:44.232670Z",
     "shell.execute_reply": "2022-07-12T00:37:44.231984Z",
     "shell.execute_reply.started": "2022-07-12T00:36:34.314059Z"
    },
    "id": "50EWscxn8SaJ",
    "papermill": {
     "duration": 1.317711,
     "end_time": "2022-07-12T00:37:44.232844",
     "exception": false,
     "start_time": "2022-07-12T00:37:42.915133",
     "status": "completed"
    },
    "tags": []
   },
   "outputs": [],
   "source": [
    "import sklearn\n",
    "from sklearn import metrics\n",
    "from sklearn.neighbors import KNeighborsRegressor\n",
    "from scipy.cluster.vq import kmeans, vq, whiten\n",
    "from scipy.spatial.distance import cdist\n",
    "import numpy as np\n",
    "from datetime import datetime"
   ]
  },
  {
   "cell_type": "markdown",
   "id": "f803bcb3",
   "metadata": {
    "id": "yAfj2AZsOvKX",
    "papermill": {
     "duration": 0.033041,
     "end_time": "2022-07-12T00:37:44.300044",
     "exception": false,
     "start_time": "2022-07-12T00:37:44.267003",
     "status": "completed"
    },
    "tags": []
   },
   "source": [
    "# Electricity Prediction for Measurement and Verification\n",
    "\n",
    "Prediction is a common machine learning (ML) technique used on building energy consumption data. This process is valuable for anomaly detection, load profile-based building control and measurement and verification procedures. \n",
    "\n",
    "The graphic below comes from the IPMVP to show how prediction can be used for M&V to calculate how much energy **would have** been consumed if an energy savings intervention had not been implemented. \n",
    "\n"
   ]
  },
  {
   "cell_type": "markdown",
   "id": "9fd6ea9f",
   "metadata": {
    "id": "cZVDndNrGEHH",
    "papermill": {
     "duration": 0.033752,
     "end_time": "2022-07-12T00:37:44.368264",
     "exception": false,
     "start_time": "2022-07-12T00:37:44.334512",
     "status": "completed"
    },
    "tags": []
   },
   "source": [
    "## Prediction for Measurement and Verification\n",
    "\n",
    "![alt text](https://raw.githubusercontent.com/buds-lab/the-building-data-genome-project/master/docs/edx-graphics/EDX-ML-ScikitLearn-3.png)\n",
    "\n",
    "There is an open publication that gives more information on how prediction in this realm can be approached: https://www.mdpi.com/2504-4990/1/3/56\n",
    "\n",
    "There is an entire Kaggle Machine Learning competition also focused on this application: https://www.kaggle.com/c/ashrae-energy-prediction\n",
    "\n"
   ]
  },
  {
   "cell_type": "markdown",
   "id": "31105cb7",
   "metadata": {
    "id": "eBMZrSlhRwQY",
    "papermill": {
     "duration": 0.034192,
     "end_time": "2022-07-12T00:37:44.434781",
     "exception": false,
     "start_time": "2022-07-12T00:37:44.400589",
     "status": "completed"
    },
    "tags": []
   },
   "source": [
    "## Load electricity data and weather data\n",
    "\n",
    "First we can load the data from the BDG in the same as our previous weather analysis influence notebook from the Construction Phase videos"
   ]
  },
  {
   "cell_type": "code",
   "execution_count": 3,
   "id": "d1468004",
   "metadata": {
    "execution": {
     "iopub.execute_input": "2022-07-12T00:37:44.505865Z",
     "iopub.status.busy": "2022-07-12T00:37:44.505145Z",
     "iopub.status.idle": "2022-07-12T00:37:51.968529Z",
     "shell.execute_reply": "2022-07-12T00:37:51.967947Z",
     "shell.execute_reply.started": "2022-07-12T00:36:35.579479Z"
    },
    "papermill": {
     "duration": 7.501657,
     "end_time": "2022-07-12T00:37:51.968682",
     "exception": false,
     "start_time": "2022-07-12T00:37:44.467025",
     "status": "completed"
    },
    "tags": []
   },
   "outputs": [],
   "source": [
    "elec_all_data = pd.read_csv(\"../input/buildingdatagenomeproject2/electricity_cleaned.csv\", index_col='timestamp', parse_dates=True)"
   ]
  },
  {
   "cell_type": "code",
   "execution_count": 4,
   "id": "ad8fe673",
   "metadata": {
    "execution": {
     "iopub.execute_input": "2022-07-12T00:37:52.039837Z",
     "iopub.status.busy": "2022-07-12T00:37:52.038875Z",
     "iopub.status.idle": "2022-07-12T00:37:52.127946Z",
     "shell.execute_reply": "2022-07-12T00:37:52.128486Z",
     "shell.execute_reply.started": "2022-07-12T00:36:42.989102Z"
    },
    "papermill": {
     "duration": 0.127042,
     "end_time": "2022-07-12T00:37:52.128760",
     "exception": false,
     "start_time": "2022-07-12T00:37:52.001718",
     "status": "completed"
    },
    "tags": []
   },
   "outputs": [
    {
     "name": "stdout",
     "output_type": "stream",
     "text": [
      "<class 'pandas.core.frame.DataFrame'>\n",
      "DatetimeIndex: 17544 entries, 2016-01-01 00:00:00 to 2017-12-31 23:00:00\n",
      "Columns: 1578 entries, Panther_parking_Lorriane to Mouse_science_Micheal\n",
      "dtypes: float64(1578)\n",
      "memory usage: 211.3 MB\n"
     ]
    }
   ],
   "source": [
    "elec_all_data.info()"
   ]
  },
  {
   "cell_type": "code",
   "execution_count": 5,
   "id": "7314bb87",
   "metadata": {
    "execution": {
     "iopub.execute_input": "2022-07-12T00:37:52.198152Z",
     "iopub.status.busy": "2022-07-12T00:37:52.197501Z",
     "iopub.status.idle": "2022-07-12T00:37:52.201054Z",
     "shell.execute_reply": "2022-07-12T00:37:52.201575Z",
     "shell.execute_reply.started": "2022-07-12T00:36:43.080405Z"
    },
    "papermill": {
     "duration": 0.039329,
     "end_time": "2022-07-12T00:37:52.201744",
     "exception": false,
     "start_time": "2022-07-12T00:37:52.162415",
     "status": "completed"
    },
    "tags": []
   },
   "outputs": [],
   "source": [
    "buildingname = 'Panther_office_Hannah'"
   ]
  },
  {
   "cell_type": "code",
   "execution_count": 6,
   "id": "bd4eac11",
   "metadata": {
    "execution": {
     "iopub.execute_input": "2022-07-12T00:37:52.273081Z",
     "iopub.status.busy": "2022-07-12T00:37:52.272393Z",
     "iopub.status.idle": "2022-07-12T00:37:52.284793Z",
     "shell.execute_reply": "2022-07-12T00:37:52.285340Z",
     "shell.execute_reply.started": "2022-07-12T00:36:43.088181Z"
    },
    "id": "gKMx2yMqNsLm",
    "papermill": {
     "duration": 0.050226,
     "end_time": "2022-07-12T00:37:52.285521",
     "exception": false,
     "start_time": "2022-07-12T00:37:52.235295",
     "status": "completed"
    },
    "tags": []
   },
   "outputs": [],
   "source": [
    "office_example_prediction_data = pd.DataFrame(elec_all_data[buildingname].truncate(before='2017-01-01')).fillna(method='ffill')"
   ]
  },
  {
   "cell_type": "code",
   "execution_count": 7,
   "id": "29b1eaa4",
   "metadata": {
    "execution": {
     "iopub.execute_input": "2022-07-12T00:37:52.356428Z",
     "iopub.status.busy": "2022-07-12T00:37:52.355554Z",
     "iopub.status.idle": "2022-07-12T00:37:52.367785Z",
     "shell.execute_reply": "2022-07-12T00:37:52.368322Z",
     "shell.execute_reply.started": "2022-07-12T00:36:43.106088Z"
    },
    "papermill": {
     "duration": 0.049644,
     "end_time": "2022-07-12T00:37:52.368524",
     "exception": false,
     "start_time": "2022-07-12T00:37:52.318880",
     "status": "completed"
    },
    "tags": []
   },
   "outputs": [
    {
     "name": "stdout",
     "output_type": "stream",
     "text": [
      "<class 'pandas.core.frame.DataFrame'>\n",
      "DatetimeIndex: 8760 entries, 2017-01-01 00:00:00 to 2017-12-31 23:00:00\n",
      "Data columns (total 1 columns):\n",
      " #   Column                 Non-Null Count  Dtype  \n",
      "---  ------                 --------------  -----  \n",
      " 0   Panther_office_Hannah  8760 non-null   float64\n",
      "dtypes: float64(1)\n",
      "memory usage: 136.9 KB\n"
     ]
    }
   ],
   "source": [
    "office_example_prediction_data.info()"
   ]
  },
  {
   "cell_type": "code",
   "execution_count": 8,
   "id": "cbad0a41",
   "metadata": {
    "execution": {
     "iopub.execute_input": "2022-07-12T00:37:52.442973Z",
     "iopub.status.busy": "2022-07-12T00:37:52.442090Z",
     "iopub.status.idle": "2022-07-12T00:37:53.142120Z",
     "shell.execute_reply": "2022-07-12T00:37:53.141058Z",
     "shell.execute_reply.started": "2022-07-12T00:36:43.122124Z"
    },
    "id": "cM_QHlIbRX44",
    "papermill": {
     "duration": 0.739232,
     "end_time": "2022-07-12T00:37:53.142272",
     "exception": false,
     "start_time": "2022-07-12T00:37:52.403040",
     "status": "completed"
    },
    "tags": []
   },
   "outputs": [
    {
     "data": {
      "text/plain": [
       "<AxesSubplot:xlabel='timestamp'>"
      ]
     },
     "execution_count": 8,
     "metadata": {},
     "output_type": "execute_result"
    },
    {
     "data": {
      "image/png": "[encoded data removed]",
      "text/plain": [
       "<Figure size 432x288 with 1 Axes>"
      ]
     },
     "metadata": {
      "needs_background": "light"
     },
     "output_type": "display_data"
    }
   ],
   "source": [
    "office_example_prediction_data.plot()"
   ]
  },
  {
   "cell_type": "code",
   "execution_count": 9,
   "id": "3673b441",
   "metadata": {
    "execution": {
     "iopub.execute_input": "2022-07-12T00:37:53.223556Z",
     "iopub.status.busy": "2022-07-12T00:37:53.222666Z",
     "iopub.status.idle": "2022-07-12T00:37:53.919862Z",
     "shell.execute_reply": "2022-07-12T00:37:53.918950Z",
     "shell.execute_reply.started": "2022-07-12T00:36:43.807161Z"
    },
    "id": "h7b5goOjQvoJ",
    "papermill": {
     "duration": 0.741784,
     "end_time": "2022-07-12T00:37:53.920194",
     "exception": false,
     "start_time": "2022-07-12T00:37:53.178410",
     "status": "completed"
    },
    "tags": []
   },
   "outputs": [],
   "source": [
    "weather_data = pd.read_csv(\"../input/buildingdatagenomeproject2/weather.csv\", index_col='timestamp', parse_dates=True)"
   ]
  },
  {
   "cell_type": "code",
   "execution_count": 10,
   "id": "46fd6f40",
   "metadata": {
    "execution": {
     "iopub.execute_input": "2022-07-12T00:37:54.042632Z",
     "iopub.status.busy": "2022-07-12T00:37:54.041958Z",
     "iopub.status.idle": "2022-07-12T00:37:54.050459Z",
     "shell.execute_reply": "2022-07-12T00:37:54.049909Z",
     "shell.execute_reply.started": "2022-07-12T00:36:44.469652Z"
    },
    "papermill": {
     "duration": 0.094967,
     "end_time": "2022-07-12T00:37:54.050617",
     "exception": false,
     "start_time": "2022-07-12T00:37:53.955650",
     "status": "completed"
    },
    "tags": []
   },
   "outputs": [],
   "source": [
    "weather_data_site = weather_data[weather_data.site_id == 'Panther'].truncate(before='2017-01-01')"
   ]
  },
  {
   "cell_type": "code",
   "execution_count": 11,
   "id": "919215fd",
   "metadata": {
    "execution": {
     "iopub.execute_input": "2022-07-12T00:37:54.129067Z",
     "iopub.status.busy": "2022-07-12T00:37:54.128285Z",
     "iopub.status.idle": "2022-07-12T00:37:54.144911Z",
     "shell.execute_reply": "2022-07-12T00:37:54.144155Z",
     "shell.execute_reply.started": "2022-07-12T00:36:44.527358Z"
    },
    "papermill": {
     "duration": 0.057181,
     "end_time": "2022-07-12T00:37:54.145118",
     "exception": false,
     "start_time": "2022-07-12T00:37:54.087937",
     "status": "completed"
    },
    "tags": []
   },
   "outputs": [
    {
     "name": "stdout",
     "output_type": "stream",
     "text": [
      "<class 'pandas.core.frame.DataFrame'>\n",
      "DatetimeIndex: 8760 entries, 2017-01-01 00:00:00 to 2017-12-31 23:00:00\n",
      "Data columns (total 9 columns):\n",
      " #   Column          Non-Null Count  Dtype  \n",
      "---  ------          --------------  -----  \n",
      " 0   site_id         8760 non-null   object \n",
      " 1   airTemperature  8760 non-null   float64\n",
      " 2   cloudCoverage   5047 non-null   float64\n",
      " 3   dewTemperature  8760 non-null   float64\n",
      " 4   precipDepth1HR  8752 non-null   float64\n",
      " 5   precipDepth6HR  329 non-null    float64\n",
      " 6   seaLvlPressure  8522 non-null   float64\n",
      " 7   windDirection   8511 non-null   float64\n",
      " 8   windSpeed       8760 non-null   float64\n",
      "dtypes: float64(8), object(1)\n",
      "memory usage: 684.4+ KB\n"
     ]
    }
   ],
   "source": [
    "weather_data_site.info()"
   ]
  },
  {
   "cell_type": "code",
   "execution_count": 12,
   "id": "747d03e8",
   "metadata": {
    "execution": {
     "iopub.execute_input": "2022-07-12T00:37:54.222320Z",
     "iopub.status.busy": "2022-07-12T00:37:54.221655Z",
     "iopub.status.idle": "2022-07-12T00:37:54.236836Z",
     "shell.execute_reply": "2022-07-12T00:37:54.237413Z",
     "shell.execute_reply.started": "2022-07-12T00:36:44.551115Z"
    },
    "id": "7OzdoOmYQ2tp",
    "papermill": {
     "duration": 0.056523,
     "end_time": "2022-07-12T00:37:54.237588",
     "exception": false,
     "start_time": "2022-07-12T00:37:54.181065",
     "status": "completed"
    },
    "tags": []
   },
   "outputs": [],
   "source": [
    "weather_hourly = weather_data_site.resample(\"H\").mean()\n",
    "weather_hourly_nooutlier = weather_hourly[weather_hourly > -40]\n",
    "weather_hourly_nooutlier_nogaps = weather_hourly_nooutlier.fillna(method='ffill')"
   ]
  },
  {
   "cell_type": "code",
   "execution_count": 13,
   "id": "cfec1a6c",
   "metadata": {
    "execution": {
     "iopub.execute_input": "2022-07-12T00:37:54.311053Z",
     "iopub.status.busy": "2022-07-12T00:37:54.310059Z",
     "iopub.status.idle": "2022-07-12T00:37:54.314657Z",
     "shell.execute_reply": "2022-07-12T00:37:54.315248Z",
     "shell.execute_reply.started": "2022-07-12T00:36:44.571197Z"
    },
    "id": "yrcyLlaXQ_T5",
    "papermill": {
     "duration": 0.043197,
     "end_time": "2022-07-12T00:37:54.315434",
     "exception": false,
     "start_time": "2022-07-12T00:37:54.272237",
     "status": "completed"
    },
    "tags": []
   },
   "outputs": [],
   "source": [
    "temperature = weather_hourly_nooutlier_nogaps[\"airTemperature\"]"
   ]
  },
  {
   "cell_type": "code",
   "execution_count": 14,
   "id": "e5f52e58",
   "metadata": {
    "execution": {
     "iopub.execute_input": "2022-07-12T00:37:54.390304Z",
     "iopub.status.busy": "2022-07-12T00:37:54.389244Z",
     "iopub.status.idle": "2022-07-12T00:37:54.880720Z",
     "shell.execute_reply": "2022-07-12T00:37:54.880182Z",
     "shell.execute_reply.started": "2022-07-12T00:36:44.577439Z"
    },
    "id": "A81lP4ZuRIg-",
    "papermill": {
     "duration": 0.52982,
     "end_time": "2022-07-12T00:37:54.880885",
     "exception": false,
     "start_time": "2022-07-12T00:37:54.351065",
     "status": "completed"
    },
    "tags": []
   },
   "outputs": [
    {
     "data": {
      "text/plain": [
       "<AxesSubplot:xlabel='timestamp'>"
      ]
     },
     "execution_count": 14,
     "metadata": {},
     "output_type": "execute_result"
    },
    {
     "data": {
      "image/png": "[encoded data removed]",
      "text/plain": [
       "<Figure size 432x288 with 1 Axes>"
      ]
     },
     "metadata": {
      "needs_background": "light"
     },
     "output_type": "display_data"
    }
   ],
   "source": [
    "temperature.plot()"
   ]
  },
  {
   "cell_type": "markdown",
   "id": "6dec950d",
   "metadata": {
    "id": "oZ1yDvYuRmke",
    "papermill": {
     "duration": 0.036383,
     "end_time": "2022-07-12T00:37:54.955646",
     "exception": false,
     "start_time": "2022-07-12T00:37:54.919263",
     "status": "completed"
    },
    "tags": []
   },
   "source": [
    "## Create Train and Test Datasets\n",
    "\n",
    "The model is given a set of data that will be used to **train** the model to predict a specific objectice. In this case, we will use a few simple time series features as well as outdoor air temperature to predict how much energy a building uses.\n",
    "\n",
    "For this demonstration, we will use three months of data from April, May, and June to prediction July."
   ]
  },
  {
   "cell_type": "code",
   "execution_count": 15,
   "id": "21bebe7b",
   "metadata": {
    "execution": {
     "iopub.execute_input": "2022-07-12T00:37:55.033476Z",
     "iopub.status.busy": "2022-07-12T00:37:55.032479Z",
     "iopub.status.idle": "2022-07-12T00:37:55.036751Z",
     "shell.execute_reply": "2022-07-12T00:37:55.037393Z",
     "shell.execute_reply.started": "2022-07-12T00:36:45.061081Z"
    },
    "id": "W6CujBfuRPSp",
    "papermill": {
     "duration": 0.044449,
     "end_time": "2022-07-12T00:37:55.037561",
     "exception": false,
     "start_time": "2022-07-12T00:37:54.993112",
     "status": "completed"
    },
    "tags": []
   },
   "outputs": [],
   "source": [
    "training_months = [4,5,6]\n",
    "test_months = [7]"
   ]
  },
  {
   "cell_type": "markdown",
   "id": "c50bf751",
   "metadata": {
    "id": "snUjsHzdkW4a",
    "papermill": {
     "duration": 0.036507,
     "end_time": "2022-07-12T00:37:55.110144",
     "exception": false,
     "start_time": "2022-07-12T00:37:55.073637",
     "status": "completed"
    },
    "tags": []
   },
   "source": [
    "We can divide the data set by using the `datetime index` of the data frame and a function known as `.isin` to extract the months for the model"
   ]
  },
  {
   "cell_type": "code",
   "execution_count": 16,
   "id": "d59b3e24",
   "metadata": {
    "execution": {
     "iopub.execute_input": "2022-07-12T00:37:55.189886Z",
     "iopub.status.busy": "2022-07-12T00:37:55.189180Z",
     "iopub.status.idle": "2022-07-12T00:37:55.196040Z",
     "shell.execute_reply": "2022-07-12T00:37:55.195342Z",
     "shell.execute_reply.started": "2022-07-12T00:36:45.066472Z"
    },
    "id": "KS8GOF_PR4W0",
    "papermill": {
     "duration": 0.049226,
     "end_time": "2022-07-12T00:37:55.196205",
     "exception": false,
     "start_time": "2022-07-12T00:37:55.146979",
     "status": "completed"
    },
    "tags": []
   },
   "outputs": [],
   "source": [
    "trainingdata = office_example_prediction_data[office_example_prediction_data.index.month.isin(training_months)]\n",
    "testdata = office_example_prediction_data[office_example_prediction_data.index.month.isin(test_months)]"
   ]
  },
  {
   "cell_type": "code",
   "execution_count": 17,
   "id": "22539061",
   "metadata": {
    "execution": {
     "iopub.execute_input": "2022-07-12T00:37:55.278205Z",
     "iopub.status.busy": "2022-07-12T00:37:55.277489Z",
     "iopub.status.idle": "2022-07-12T00:37:55.290688Z",
     "shell.execute_reply": "2022-07-12T00:37:55.290023Z",
     "shell.execute_reply.started": "2022-07-12T00:36:45.083191Z"
    },
    "id": "L3PPiTEgSNpo",
    "papermill": {
     "duration": 0.056345,
     "end_time": "2022-07-12T00:37:55.290852",
     "exception": false,
     "start_time": "2022-07-12T00:37:55.234507",
     "status": "completed"
    },
    "tags": []
   },
   "outputs": [
    {
     "name": "stdout",
     "output_type": "stream",
     "text": [
      "<class 'pandas.core.frame.DataFrame'>\n",
      "DatetimeIndex: 2184 entries, 2017-04-01 00:00:00 to 2017-06-30 23:00:00\n",
      "Data columns (total 1 columns):\n",
      " #   Column                 Non-Null Count  Dtype  \n",
      "---  ------                 --------------  -----  \n",
      " 0   Panther_office_Hannah  2184 non-null   float64\n",
      "dtypes: float64(1)\n",
      "memory usage: 34.1 KB\n"
     ]
    }
   ],
   "source": [
    "trainingdata.info()"
   ]
  },
  {
   "cell_type": "code",
   "execution_count": 18,
   "id": "3ebca0b9",
   "metadata": {
    "execution": {
     "iopub.execute_input": "2022-07-12T00:37:55.382973Z",
     "iopub.status.busy": "2022-07-12T00:37:55.381926Z",
     "iopub.status.idle": "2022-07-12T00:37:55.385325Z",
     "shell.execute_reply": "2022-07-12T00:37:55.386046Z",
     "shell.execute_reply.started": "2022-07-12T00:36:45.103055Z"
    },
    "id": "EfJiggBzSVlX",
    "papermill": {
     "duration": 0.056851,
     "end_time": "2022-07-12T00:37:55.386271",
     "exception": false,
     "start_time": "2022-07-12T00:37:55.329420",
     "status": "completed"
    },
    "tags": []
   },
   "outputs": [
    {
     "name": "stdout",
     "output_type": "stream",
     "text": [
      "<class 'pandas.core.frame.DataFrame'>\n",
      "DatetimeIndex: 744 entries, 2017-07-01 00:00:00 to 2017-07-31 23:00:00\n",
      "Data columns (total 1 columns):\n",
      " #   Column                 Non-Null Count  Dtype  \n",
      "---  ------                 --------------  -----  \n",
      " 0   Panther_office_Hannah  744 non-null    float64\n",
      "dtypes: float64(1)\n",
      "memory usage: 11.6 KB\n"
     ]
    }
   ],
   "source": [
    "testdata.info()"
   ]
  },
  {
   "cell_type": "markdown",
   "id": "76d212fb",
   "metadata": {
    "id": "4_hwubi-kkN-",
    "papermill": {
     "duration": 0.037522,
     "end_time": "2022-07-12T00:37:55.465100",
     "exception": false,
     "start_time": "2022-07-12T00:37:55.427578",
     "status": "completed"
    },
    "tags": []
   },
   "source": [
    "We can extract the training input data features that will go into the model and the training **label** data which is what are are targeting to predict. \n",
    "\n",
    "## Encoding Categorical Variables \n",
    "\n",
    "We use the pandas `.get_dummies()` function to change the temporal variables of *time of day* and *day of week* into categories that the model can use more effectively. This process is known as [enconding](https://machinelearningmastery.com/why-one-hot-encode-data-in-machine-learning/)"
   ]
  },
  {
   "cell_type": "code",
   "execution_count": 19,
   "id": "560994e3",
   "metadata": {
    "execution": {
     "iopub.execute_input": "2022-07-12T00:37:55.547540Z",
     "iopub.status.busy": "2022-07-12T00:37:55.546708Z",
     "iopub.status.idle": "2022-07-12T00:37:55.559581Z",
     "shell.execute_reply": "2022-07-12T00:37:55.559016Z",
     "shell.execute_reply.started": "2022-07-12T00:36:45.125125Z"
    },
    "id": "3sXkNOmESZFX",
    "papermill": {
     "duration": 0.056781,
     "end_time": "2022-07-12T00:37:55.559727",
     "exception": false,
     "start_time": "2022-07-12T00:37:55.502946",
     "status": "completed"
    },
    "tags": []
   },
   "outputs": [],
   "source": [
    "train_features = pd.concat([pd.get_dummies(trainingdata.index.hour), \n",
    "                                     pd.get_dummies(trainingdata.index.dayofweek), \n",
    "                                     pd.DataFrame(temperature[temperature.index.month.isin(training_months)].values)], axis=1).dropna()\n"
   ]
  },
  {
   "cell_type": "code",
   "execution_count": 20,
   "id": "cd1ab566",
   "metadata": {
    "execution": {
     "iopub.execute_input": "2022-07-12T00:37:55.641956Z",
     "iopub.status.busy": "2022-07-12T00:37:55.641270Z",
     "iopub.status.idle": "2022-07-12T00:37:55.665227Z",
     "shell.execute_reply": "2022-07-12T00:37:55.665694Z",
     "shell.execute_reply.started": "2022-07-12T00:36:45.142778Z"
    },
    "id": "pO6ULGsDk-3S",
    "papermill": {
     "duration": 0.067454,
     "end_time": "2022-07-12T00:37:55.665884",
     "exception": false,
     "start_time": "2022-07-12T00:37:55.598430",
     "status": "completed"
    },
    "tags": []
   },
   "outputs": [
    {
     "data": {
      "text/html": [
       "<div>\n",
       "<style scoped>\n",
       "    .dataframe tbody tr th:only-of-type {\n",
       "        vertical-align: middle;\n",
       "    }\n",
       "\n",
       "    .dataframe tbody tr th {\n",
       "        vertical-align: top;\n",
       "    }\n",
       "\n",
       "    .dataframe thead th {\n",
       "        text-align: right;\n",
       "    }\n",
       "</style>\n",
       "<table border=\"1\" class=\"dataframe\">\n",
       "  <thead>\n",
       "    <tr style=\"text-align: right;\">\n",
       "      <th></th>\n",
       "      <th>0</th>\n",
       "      <th>1</th>\n",
       "      <th>2</th>\n",
       "      <th>3</th>\n",
       "      <th>4</th>\n",
       "      <th>5</th>\n",
       "      <th>6</th>\n",
       "      <th>7</th>\n",
       "      <th>8</th>\n",
       "      <th>9</th>\n",
       "      <th>...</th>\n",
       "      <th>22</th>\n",
       "      <th>23</th>\n",
       "      <th>0</th>\n",
       "      <th>1</th>\n",
       "      <th>2</th>\n",
       "      <th>3</th>\n",
       "      <th>4</th>\n",
       "      <th>5</th>\n",
       "      <th>6</th>\n",
       "      <th>0</th>\n",
       "    </tr>\n",
       "  </thead>\n",
       "  <tbody>\n",
       "    <tr>\n",
       "      <th>0</th>\n",
       "      <td>1</td>\n",
       "      <td>0</td>\n",
       "      <td>0</td>\n",
       "      <td>0</td>\n",
       "      <td>0</td>\n",
       "      <td>0</td>\n",
       "      <td>0</td>\n",
       "      <td>0</td>\n",
       "      <td>0</td>\n",
       "      <td>0</td>\n",
       "      <td>...</td>\n",
       "      <td>0</td>\n",
       "      <td>0</td>\n",
       "      <td>0</td>\n",
       "      <td>0</td>\n",
       "      <td>0</td>\n",
       "      <td>0</td>\n",
       "      <td>0</td>\n",
       "      <td>1</td>\n",
       "      <td>0</td>\n",
       "      <td>21.7</td>\n",
       "    </tr>\n",
       "    <tr>\n",
       "      <th>1</th>\n",
       "      <td>0</td>\n",
       "      <td>1</td>\n",
       "      <td>0</td>\n",
       "      <td>0</td>\n",
       "      <td>0</td>\n",
       "      <td>0</td>\n",
       "      <td>0</td>\n",
       "      <td>0</td>\n",
       "      <td>0</td>\n",
       "      <td>0</td>\n",
       "      <td>...</td>\n",
       "      <td>0</td>\n",
       "      <td>0</td>\n",
       "      <td>0</td>\n",
       "      <td>0</td>\n",
       "      <td>0</td>\n",
       "      <td>0</td>\n",
       "      <td>0</td>\n",
       "      <td>1</td>\n",
       "      <td>0</td>\n",
       "      <td>21.0</td>\n",
       "    </tr>\n",
       "    <tr>\n",
       "      <th>2</th>\n",
       "      <td>0</td>\n",
       "      <td>0</td>\n",
       "      <td>1</td>\n",
       "      <td>0</td>\n",
       "      <td>0</td>\n",
       "      <td>0</td>\n",
       "      <td>0</td>\n",
       "      <td>0</td>\n",
       "      <td>0</td>\n",
       "      <td>0</td>\n",
       "      <td>...</td>\n",
       "      <td>0</td>\n",
       "      <td>0</td>\n",
       "      <td>0</td>\n",
       "      <td>0</td>\n",
       "      <td>0</td>\n",
       "      <td>0</td>\n",
       "      <td>0</td>\n",
       "      <td>1</td>\n",
       "      <td>0</td>\n",
       "      <td>18.9</td>\n",
       "    </tr>\n",
       "    <tr>\n",
       "      <th>3</th>\n",
       "      <td>0</td>\n",
       "      <td>0</td>\n",
       "      <td>0</td>\n",
       "      <td>1</td>\n",
       "      <td>0</td>\n",
       "      <td>0</td>\n",
       "      <td>0</td>\n",
       "      <td>0</td>\n",
       "      <td>0</td>\n",
       "      <td>0</td>\n",
       "      <td>...</td>\n",
       "      <td>0</td>\n",
       "      <td>0</td>\n",
       "      <td>0</td>\n",
       "      <td>0</td>\n",
       "      <td>0</td>\n",
       "      <td>0</td>\n",
       "      <td>0</td>\n",
       "      <td>1</td>\n",
       "      <td>0</td>\n",
       "      <td>20.6</td>\n",
       "    </tr>\n",
       "    <tr>\n",
       "      <th>4</th>\n",
       "      <td>0</td>\n",
       "      <td>0</td>\n",
       "      <td>0</td>\n",
       "      <td>0</td>\n",
       "      <td>1</td>\n",
       "      <td>0</td>\n",
       "      <td>0</td>\n",
       "      <td>0</td>\n",
       "      <td>0</td>\n",
       "      <td>0</td>\n",
       "      <td>...</td>\n",
       "      <td>0</td>\n",
       "      <td>0</td>\n",
       "      <td>0</td>\n",
       "      <td>0</td>\n",
       "      <td>0</td>\n",
       "      <td>0</td>\n",
       "      <td>0</td>\n",
       "      <td>1</td>\n",
       "      <td>0</td>\n",
       "      <td>21.0</td>\n",
       "    </tr>\n",
       "  </tbody>\n",
       "</table>\n",
       "<p>5 rows × 32 columns</p>\n",
       "</div>"
      ],
      "text/plain": [
       "   0   1   2   3   4   5   6   7   8   9   ...  22  23  0   1   2   3   4   \\\n",
       "0   1   0   0   0   0   0   0   0   0   0  ...   0   0   0   0   0   0   0   \n",
       "1   0   1   0   0   0   0   0   0   0   0  ...   0   0   0   0   0   0   0   \n",
       "2   0   0   1   0   0   0   0   0   0   0  ...   0   0   0   0   0   0   0   \n",
       "3   0   0   0   1   0   0   0   0   0   0  ...   0   0   0   0   0   0   0   \n",
       "4   0   0   0   0   1   0   0   0   0   0  ...   0   0   0   0   0   0   0   \n",
       "\n",
       "   5   6     0   \n",
       "0   1   0  21.7  \n",
       "1   1   0  21.0  \n",
       "2   1   0  18.9  \n",
       "3   1   0  20.6  \n",
       "4   1   0  21.0  \n",
       "\n",
       "[5 rows x 32 columns]"
      ]
     },
     "execution_count": 20,
     "metadata": {},
     "output_type": "execute_result"
    }
   ],
   "source": [
    "train_features.head()"
   ]
  },
  {
   "cell_type": "markdown",
   "id": "f185d029",
   "metadata": {
    "id": "zx8nN-a0qFB2",
    "papermill": {
     "duration": 0.036916,
     "end_time": "2022-07-12T00:37:55.740354",
     "exception": false,
     "start_time": "2022-07-12T00:37:55.703438",
     "status": "completed"
    },
    "tags": []
   },
   "source": [
    "## Train a K-Neighbor Model\n",
    "\n",
    "This model was chosen after following the process in the cheat sheet until a model that worked and provided good results was found."
   ]
  },
  {
   "cell_type": "code",
   "execution_count": 21,
   "id": "a7165957",
   "metadata": {
    "execution": {
     "iopub.execute_input": "2022-07-12T00:37:55.820631Z",
     "iopub.status.busy": "2022-07-12T00:37:55.819628Z",
     "iopub.status.idle": "2022-07-12T00:37:55.833202Z",
     "shell.execute_reply": "2022-07-12T00:37:55.833728Z",
     "shell.execute_reply.started": "2022-07-12T00:36:45.171076Z"
    },
    "id": "fbd421YETWvW",
    "papermill": {
     "duration": 0.056316,
     "end_time": "2022-07-12T00:37:55.833920",
     "exception": false,
     "start_time": "2022-07-12T00:37:55.777604",
     "status": "completed"
    },
    "tags": []
   },
   "outputs": [],
   "source": [
    "model = KNeighborsRegressor().fit(np.array(train_features), np.array(trainingdata.values));\n"
   ]
  },
  {
   "cell_type": "code",
   "execution_count": 22,
   "id": "5680f3c7",
   "metadata": {
    "execution": {
     "iopub.execute_input": "2022-07-12T00:37:55.918055Z",
     "iopub.status.busy": "2022-07-12T00:37:55.917039Z",
     "iopub.status.idle": "2022-07-12T00:37:55.927011Z",
     "shell.execute_reply": "2022-07-12T00:37:55.927525Z",
     "shell.execute_reply.started": "2022-07-12T00:36:45.187512Z"
    },
    "id": "PGUKiipfTaz0",
    "papermill": {
     "duration": 0.055697,
     "end_time": "2022-07-12T00:37:55.927692",
     "exception": false,
     "start_time": "2022-07-12T00:37:55.871995",
     "status": "completed"
    },
    "tags": []
   },
   "outputs": [],
   "source": [
    "test_features = np.array(pd.concat([pd.get_dummies(testdata.index.hour),\n",
    "                                    pd.get_dummies(testdata.index.dayofweek),\n",
    "                                    pd.DataFrame(temperature[temperature.index.month.isin(test_months)].values)], axis=1).dropna())"
   ]
  },
  {
   "cell_type": "markdown",
   "id": "89e5b84b",
   "metadata": {
    "id": "ELDwYHsqqVtw",
    "papermill": {
     "duration": 0.036855,
     "end_time": "2022-07-12T00:37:56.002536",
     "exception": false,
     "start_time": "2022-07-12T00:37:55.965681",
     "status": "completed"
    },
    "tags": []
   },
   "source": [
    "\n",
    "\n",
    "## Use the Model to predict for the *Test* period\n",
    "\n",
    "Then the model is given the `test_features` from the period which we want to predict. We can then merge those results and see how the model did"
   ]
  },
  {
   "cell_type": "code",
   "execution_count": 23,
   "id": "ed68f411",
   "metadata": {
    "execution": {
     "iopub.execute_input": "2022-07-12T00:37:56.083058Z",
     "iopub.status.busy": "2022-07-12T00:37:56.082083Z",
     "iopub.status.idle": "2022-07-12T00:37:56.110391Z",
     "shell.execute_reply": "2022-07-12T00:37:56.110946Z",
     "shell.execute_reply.started": "2022-07-12T00:36:45.202045Z"
    },
    "id": "S8OmtUk_YRqv",
    "papermill": {
     "duration": 0.070292,
     "end_time": "2022-07-12T00:37:56.111132",
     "exception": false,
     "start_time": "2022-07-12T00:37:56.040840",
     "status": "completed"
    },
    "tags": []
   },
   "outputs": [],
   "source": [
    "predictions = model.predict(test_features)"
   ]
  },
  {
   "cell_type": "code",
   "execution_count": 24,
   "id": "8966c2ff",
   "metadata": {
    "execution": {
     "iopub.execute_input": "2022-07-12T00:37:56.193579Z",
     "iopub.status.busy": "2022-07-12T00:37:56.192545Z",
     "iopub.status.idle": "2022-07-12T00:37:56.198132Z",
     "shell.execute_reply": "2022-07-12T00:37:56.198715Z",
     "shell.execute_reply.started": "2022-07-12T00:36:45.236154Z"
    },
    "id": "Yy8PQBfbYUvk",
    "papermill": {
     "duration": 0.048783,
     "end_time": "2022-07-12T00:37:56.198909",
     "exception": false,
     "start_time": "2022-07-12T00:37:56.150126",
     "status": "completed"
    },
    "tags": []
   },
   "outputs": [],
   "source": [
    "predicted_vs_actual = pd.concat([testdata, pd.DataFrame(predictions, index=testdata.index)], axis=1)"
   ]
  },
  {
   "cell_type": "code",
   "execution_count": 25,
   "id": "5987220d",
   "metadata": {
    "execution": {
     "iopub.execute_input": "2022-07-12T00:37:56.279723Z",
     "iopub.status.busy": "2022-07-12T00:37:56.278754Z",
     "iopub.status.idle": "2022-07-12T00:37:56.283309Z",
     "shell.execute_reply": "2022-07-12T00:37:56.283913Z",
     "shell.execute_reply.started": "2022-07-12T00:36:45.244502Z"
    },
    "id": "DAOurMSjH3tk",
    "papermill": {
     "duration": 0.046567,
     "end_time": "2022-07-12T00:37:56.284089",
     "exception": false,
     "start_time": "2022-07-12T00:37:56.237522",
     "status": "completed"
    },
    "tags": []
   },
   "outputs": [],
   "source": [
    "predicted_vs_actual.columns = [\"Actual\", \"Predicted\"]"
   ]
  },
  {
   "cell_type": "code",
   "execution_count": 26,
   "id": "66a494ef",
   "metadata": {
    "execution": {
     "iopub.execute_input": "2022-07-12T00:37:56.364896Z",
     "iopub.status.busy": "2022-07-12T00:37:56.363927Z",
     "iopub.status.idle": "2022-07-12T00:37:56.376609Z",
     "shell.execute_reply": "2022-07-12T00:37:56.375917Z",
     "shell.execute_reply.started": "2022-07-12T00:36:45.256941Z"
    },
    "id": "16esn6MzICDI",
    "papermill": {
     "duration": 0.05516,
     "end_time": "2022-07-12T00:37:56.376761",
     "exception": false,
     "start_time": "2022-07-12T00:37:56.321601",
     "status": "completed"
    },
    "tags": []
   },
   "outputs": [
    {
     "data": {
      "text/html": [
       "<div>\n",
       "<style scoped>\n",
       "    .dataframe tbody tr th:only-of-type {\n",
       "        vertical-align: middle;\n",
       "    }\n",
       "\n",
       "    .dataframe tbody tr th {\n",
       "        vertical-align: top;\n",
       "    }\n",
       "\n",
       "    .dataframe thead th {\n",
       "        text-align: right;\n",
       "    }\n",
       "</style>\n",
       "<table border=\"1\" class=\"dataframe\">\n",
       "  <thead>\n",
       "    <tr style=\"text-align: right;\">\n",
       "      <th></th>\n",
       "      <th>Actual</th>\n",
       "      <th>Predicted</th>\n",
       "    </tr>\n",
       "    <tr>\n",
       "      <th>timestamp</th>\n",
       "      <th></th>\n",
       "      <th></th>\n",
       "    </tr>\n",
       "  </thead>\n",
       "  <tbody>\n",
       "    <tr>\n",
       "      <th>2017-07-01 00:00:00</th>\n",
       "      <td>5.3370</td>\n",
       "      <td>5.75910</td>\n",
       "    </tr>\n",
       "    <tr>\n",
       "      <th>2017-07-01 01:00:00</th>\n",
       "      <td>3.8547</td>\n",
       "      <td>6.02898</td>\n",
       "    </tr>\n",
       "    <tr>\n",
       "      <th>2017-07-01 02:00:00</th>\n",
       "      <td>5.5751</td>\n",
       "      <td>4.39686</td>\n",
       "    </tr>\n",
       "    <tr>\n",
       "      <th>2017-07-01 03:00:00</th>\n",
       "      <td>4.1248</td>\n",
       "      <td>4.23180</td>\n",
       "    </tr>\n",
       "    <tr>\n",
       "      <th>2017-07-01 04:00:00</th>\n",
       "      <td>3.3497</td>\n",
       "      <td>4.03858</td>\n",
       "    </tr>\n",
       "  </tbody>\n",
       "</table>\n",
       "</div>"
      ],
      "text/plain": [
       "                     Actual  Predicted\n",
       "timestamp                             \n",
       "2017-07-01 00:00:00  5.3370    5.75910\n",
       "2017-07-01 01:00:00  3.8547    6.02898\n",
       "2017-07-01 02:00:00  5.5751    4.39686\n",
       "2017-07-01 03:00:00  4.1248    4.23180\n",
       "2017-07-01 04:00:00  3.3497    4.03858"
      ]
     },
     "execution_count": 26,
     "metadata": {},
     "output_type": "execute_result"
    }
   ],
   "source": [
    "predicted_vs_actual.head()"
   ]
  },
  {
   "cell_type": "code",
   "execution_count": 27,
   "id": "eb66f0b0",
   "metadata": {
    "execution": {
     "iopub.execute_input": "2022-07-12T00:37:56.458988Z",
     "iopub.status.busy": "2022-07-12T00:37:56.458240Z",
     "iopub.status.idle": "2022-07-12T00:37:56.814614Z",
     "shell.execute_reply": "2022-07-12T00:37:56.813981Z",
     "shell.execute_reply.started": "2022-07-12T00:36:45.276146Z"
    },
    "id": "rmX0oUrOYj2h",
    "papermill": {
     "duration": 0.398233,
     "end_time": "2022-07-12T00:37:56.814750",
     "exception": false,
     "start_time": "2022-07-12T00:37:56.416517",
     "status": "completed"
    },
    "tags": []
   },
   "outputs": [
    {
     "data": {
      "text/plain": [
       "<AxesSubplot:xlabel='timestamp'>"
      ]
     },
     "execution_count": 27,
     "metadata": {},
     "output_type": "execute_result"
    },
    {
     "data": {
      "image/png": "[encoded data removed]",
      "text/plain": [
       "<Figure size 432x288 with 1 Axes>"
      ]
     },
     "metadata": {
      "needs_background": "light"
     },
     "output_type": "display_data"
    }
   ],
   "source": [
    "predicted_vs_actual.plot()"
   ]
  },
  {
   "cell_type": "code",
   "execution_count": 28,
   "id": "97128b10",
   "metadata": {
    "execution": {
     "iopub.execute_input": "2022-07-12T00:37:56.904914Z",
     "iopub.status.busy": "2022-07-12T00:37:56.904233Z",
     "iopub.status.idle": "2022-07-12T00:37:56.906496Z",
     "shell.execute_reply": "2022-07-12T00:37:56.907051Z",
     "shell.execute_reply.started": "2022-07-12T00:36:45.639103Z"
    },
    "id": "pbgcjsrHHyqb",
    "papermill": {
     "duration": 0.05138,
     "end_time": "2022-07-12T00:37:56.907222",
     "exception": false,
     "start_time": "2022-07-12T00:37:56.855842",
     "status": "completed"
    },
    "tags": []
   },
   "outputs": [],
   "source": [
    "trainingdata.columns = [\"Actual\"]"
   ]
  },
  {
   "cell_type": "code",
   "execution_count": 29,
   "id": "ae2842ed",
   "metadata": {
    "execution": {
     "iopub.execute_input": "2022-07-12T00:37:56.999943Z",
     "iopub.status.busy": "2022-07-12T00:37:56.999223Z",
     "iopub.status.idle": "2022-07-12T00:37:57.001789Z",
     "shell.execute_reply": "2022-07-12T00:37:57.002364Z",
     "shell.execute_reply.started": "2022-07-12T00:36:45.648697Z"
    },
    "id": "6TWkEIbQY_0Q",
    "papermill": {
     "duration": 0.052415,
     "end_time": "2022-07-12T00:37:57.002588",
     "exception": false,
     "start_time": "2022-07-12T00:37:56.950173",
     "status": "completed"
    },
    "tags": []
   },
   "outputs": [],
   "source": [
    "predicted_vs_actual_plus_training = pd.concat([trainingdata, predicted_vs_actual], sort=True)"
   ]
  },
  {
   "cell_type": "code",
   "execution_count": 30,
   "id": "d2ae5400",
   "metadata": {
    "execution": {
     "iopub.execute_input": "2022-07-12T00:37:57.088212Z",
     "iopub.status.busy": "2022-07-12T00:37:57.087519Z",
     "iopub.status.idle": "2022-07-12T00:37:57.452374Z",
     "shell.execute_reply": "2022-07-12T00:37:57.452940Z",
     "shell.execute_reply.started": "2022-07-12T00:36:45.666057Z"
    },
    "id": "IT0zpaRv_VAP",
    "papermill": {
     "duration": 0.408378,
     "end_time": "2022-07-12T00:37:57.453116",
     "exception": false,
     "start_time": "2022-07-12T00:37:57.044738",
     "status": "completed"
    },
    "tags": []
   },
   "outputs": [
    {
     "data": {
      "text/plain": [
       "<AxesSubplot:xlabel='timestamp'>"
      ]
     },
     "execution_count": 30,
     "metadata": {},
     "output_type": "execute_result"
    },
    {
     "data": {
      "image/png": "[encoded data removed]",
      "text/plain": [
       "<Figure size 432x288 with 1 Axes>"
      ]
     },
     "metadata": {
      "needs_background": "light"
     },
     "output_type": "display_data"
    }
   ],
   "source": [
    "predicted_vs_actual_plus_training.plot()"
   ]
  },
  {
   "cell_type": "markdown",
   "id": "21af0737",
   "metadata": {
    "id": "EXlyT5AZqoDC",
    "papermill": {
     "duration": 0.042635,
     "end_time": "2022-07-12T00:37:57.538411",
     "exception": false,
     "start_time": "2022-07-12T00:37:57.495776",
     "status": "completed"
    },
    "tags": []
   },
   "source": [
    "## Evaluation metrics\n",
    "\n",
    "In order to understand quanitatively how the model performed, we can use various evaluation metrics to understand how well the model compared to reality. \n",
    "\n",
    "In this situation, let's use the error metric [Mean Absolute Percentage Error (MAPE)](https://en.wikipedia.org/wiki/Mean_absolute_percentage_error) "
   ]
  },
  {
   "cell_type": "code",
   "execution_count": 31,
   "id": "f6871cbb",
   "metadata": {
    "execution": {
     "iopub.execute_input": "2022-07-12T00:37:57.629231Z",
     "iopub.status.busy": "2022-07-12T00:37:57.628452Z",
     "iopub.status.idle": "2022-07-12T00:37:57.634004Z",
     "shell.execute_reply": "2022-07-12T00:37:57.634484Z",
     "shell.execute_reply.started": "2022-07-12T00:36:46.035234Z"
    },
    "id": "Slryz7Ze_WtE",
    "papermill": {
     "duration": 0.053377,
     "end_time": "2022-07-12T00:37:57.634660",
     "exception": false,
     "start_time": "2022-07-12T00:37:57.581283",
     "status": "completed"
    },
    "tags": []
   },
   "outputs": [],
   "source": [
    "# Calculate the absolute errors\n",
    "errors = abs(predicted_vs_actual['Predicted'] - predicted_vs_actual['Actual'])\n",
    "# Calculate mean absolute percentage error (MAPE) and add to list\n",
    "MAPE = 100 * np.mean((errors / predicted_vs_actual['Actual']))"
   ]
  },
  {
   "cell_type": "code",
   "execution_count": 32,
   "id": "fee37265",
   "metadata": {
    "execution": {
     "iopub.execute_input": "2022-07-12T00:37:57.724325Z",
     "iopub.status.busy": "2022-07-12T00:37:57.723328Z",
     "iopub.status.idle": "2022-07-12T00:37:57.728313Z",
     "shell.execute_reply": "2022-07-12T00:37:57.728771Z",
     "shell.execute_reply.started": "2022-07-12T00:36:46.042639Z"
    },
    "id": "ikFCeMaG9LM6",
    "papermill": {
     "duration": 0.050985,
     "end_time": "2022-07-12T00:37:57.728961",
     "exception": false,
     "start_time": "2022-07-12T00:37:57.677976",
     "status": "completed"
    },
    "tags": []
   },
   "outputs": [
    {
     "data": {
      "text/plain": [
       "34.22379683897996"
      ]
     },
     "execution_count": 32,
     "metadata": {},
     "output_type": "execute_result"
    }
   ],
   "source": [
    "MAPE"
   ]
  },
  {
   "cell_type": "code",
   "execution_count": null,
   "id": "7a2e99fe",
   "metadata": {
    "papermill": {
     "duration": 0.041973,
     "end_time": "2022-07-12T00:37:57.815134",
     "exception": false,
     "start_time": "2022-07-12T00:37:57.773161",
     "status": "completed"
    },
    "tags": []
   },
   "outputs": [],
   "source": []
  }
 ],
 "metadata": {
  "kernelspec": {
   "display_name": "Python 3",
   "language": "python",
   "name": "python3"
  },
  "language_info": {
   "codemirror_mode": {
    "name": "ipython",
    "version": 3
   },
   "file_extension": ".py",
   "mimetype": "text/x-python",
   "name": "python",
   "nbconvert_exporter": "python",
   "pygments_lexer": "ipython3",
   "version": "3.7.10"
  },
  "papermill": {
   "default_parameters": {},
   "duration": 25.919806,
   "end_time": "2022-07-12T00:37:59.649533",
   "environment_variables": {},
   "exception": null,
   "input_path": "__notebook__.ipynb",
   "output_path": "__notebook__.ipynb",
   "parameters": {},
   "start_time": "2022-07-12T00:37:33.729727",
   "version": "2.3.3"
  }
 },
 "nbformat": 4,
 "nbformat_minor": 5
}
